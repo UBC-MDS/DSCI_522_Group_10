{
 "cells": [
  {
   "cell_type": "markdown",
   "metadata": {},
   "source": [
    "# Exploratory data analysis of the UCI Bank Marketing data set\n",
    "This is the exploratory data analysis for our data analysis [proposal](https://github.com/UBC-MDS/DSCI_522_Group_10)."
   ]
  },
  {
   "cell_type": "code",
   "execution_count": 1,
   "metadata": {},
   "outputs": [],
   "source": [
    "import warnings\n",
    "warnings.filterwarnings('ignore')\n",
    "from IPython.display import HTML, display\n",
    "\n",
    "import numpy as np\n",
    "import pandas as pd\n",
    "\n",
    "bank_df = pd.read_csv(\"../data/raw/bank-additional/bank-additional-full.csv\", sep=\";\")\n",
    "train_df = pd.read_csv(\"../data/processed/bank-additional-full_train.csv\")\n",
    "test_df = pd.read_csv(\"../data/processed/bank-additional-full_test.csv\")"
   ]
  },
  {
   "cell_type": "markdown",
   "metadata": {},
   "source": [
    "## Summary of the data set"
   ]
  },
  {
   "cell_type": "markdown",
   "metadata": {},
   "source": [
    "The data we are using for this project, [bank-additional-full.csv](https://archive.ics.uci.edu/ml/machine-learning-databases/00222/bank-additional.zip), was from a marketing campaign of a Portuguese bank. It was sourced from the UCI Learning Repository and can be found on this [website](https://archive.ics.uci.edu/ml/datasets/Bank+Marketing).\n",
    "\n",
    "Each row of the data is related to the direct telemarketing campaigns. They were using telemarketing to attempt to get customer to sign up for the bank's term deposit product.  The target in this dataset is yes or no to subscribing to the term deposit product.\n",
    "\n",
    "There are also some values of 'unknown' in some categorical features like education. We are considering imputation but will re-assess this while preprocessing the features.\n"
   ]
  },
  {
   "cell_type": "code",
   "execution_count": 2,
   "metadata": {},
   "outputs": [
    {
     "name": "stdout",
     "output_type": "stream",
     "text": [
      "There is a total of 41188 examples, 20 features and 0 observations with missing values in the dataset\n"
     ]
    }
   ],
   "source": [
    "total_examples = len(bank_df)\n",
    "total_features = len(bank_df.columns) - 1\n",
    "count_NA = bank_df.isna().sum().sum()\n",
    "print(f\"There is a total of {total_examples} examples, {total_features} features and {str(count_NA)} observations with missing values in the dataset\")"
   ]
  },
  {
   "cell_type": "code",
   "execution_count": null,
   "metadata": {},
   "outputs": [],
   "source": []
  },
  {
   "cell_type": "code",
   "execution_count": 3,
   "metadata": {},
   "outputs": [
    {
     "data": {
      "text/html": [
       "<div>\n",
       "<style scoped>\n",
       "    .dataframe tbody tr th:only-of-type {\n",
       "        vertical-align: middle;\n",
       "    }\n",
       "\n",
       "    .dataframe tbody tr th {\n",
       "        vertical-align: top;\n",
       "    }\n",
       "\n",
       "    .dataframe thead th {\n",
       "        text-align: right;\n",
       "    }\n",
       "</style>\n",
       "<table border=\"1\" class=\"dataframe\">\n",
       "  <thead>\n",
       "    <tr style=\"text-align: right;\">\n",
       "      <th></th>\n",
       "      <th>Not Subscribed</th>\n",
       "      <th>Subscribed</th>\n",
       "    </tr>\n",
       "  </thead>\n",
       "  <tbody>\n",
       "    <tr>\n",
       "      <th>Class Distribution</th>\n",
       "      <td>36548</td>\n",
       "      <td>4640</td>\n",
       "    </tr>\n",
       "  </tbody>\n",
       "</table>\n",
       "</div>"
      ],
      "text/plain": [
       "                    Not Subscribed  Subscribed\n",
       "Class Distribution           36548        4640"
      ]
     },
     "execution_count": 3,
     "metadata": {},
     "output_type": "execute_result"
    }
   ],
   "source": [
    "class_distribution = bank_df.y.value_counts().to_frame().T.rename(columns={\"no\":\"Not Subscribed\", \"yes\":\"Subscribed\"}, index={\"y\":\"Class Distribution\"})\n",
    "class_distribution"
   ]
  },
  {
   "cell_type": "markdown",
   "metadata": {},
   "source": [
    "Table 1. Counts of observation for each class.\n",
    "\n",
    "The data used in this analysis is very simliar to the data used in [Moro et al., 2014]."
   ]
  },
  {
   "cell_type": "markdown",
   "metadata": {},
   "source": [
    "## Partition the data set into training and test sets"
   ]
  },
  {
   "cell_type": "markdown",
   "metadata": {},
   "source": [
    "Before proceeding further, we will split the data such that 80% of observations are in the training and 20% of observations are in the test set. Below we list the counts of observations for each class:"
   ]
  },
  {
   "cell_type": "code",
   "execution_count": 4,
   "metadata": {},
   "outputs": [
    {
     "data": {
      "text/html": [
       "<div>\n",
       "<style scoped>\n",
       "    .dataframe tbody tr th:only-of-type {\n",
       "        vertical-align: middle;\n",
       "    }\n",
       "\n",
       "    .dataframe tbody tr th {\n",
       "        vertical-align: top;\n",
       "    }\n",
       "\n",
       "    .dataframe thead th {\n",
       "        text-align: right;\n",
       "    }\n",
       "</style>\n",
       "<table border=\"1\" class=\"dataframe\">\n",
       "  <thead>\n",
       "    <tr style=\"text-align: right;\">\n",
       "      <th></th>\n",
       "      <th>Not Subscribed</th>\n",
       "      <th>Subscribed</th>\n",
       "    </tr>\n",
       "  </thead>\n",
       "  <tbody>\n",
       "    <tr>\n",
       "      <th>Training Set Class Distribution</th>\n",
       "      <td>29250</td>\n",
       "      <td>3700</td>\n",
       "    </tr>\n",
       "    <tr>\n",
       "      <th>Test Set Class Distribution</th>\n",
       "      <td>7298</td>\n",
       "      <td>940</td>\n",
       "    </tr>\n",
       "  </tbody>\n",
       "</table>\n",
       "</div>"
      ],
      "text/plain": [
       "                                 Not Subscribed  Subscribed\n",
       "Training Set Class Distribution           29250        3700\n",
       "Test Set Class Distribution                7298         940"
      ]
     },
     "execution_count": 4,
     "metadata": {},
     "output_type": "execute_result"
    }
   ],
   "source": [
    "train_class_distribution = train_df.target.value_counts().to_frame().T.rename(columns={0:\"Not Subscribed\", 1:\"Subscribed\"}, index={\"target\":\"Training Set Class Distribution\"})\n",
    "test_class_distribution = test_df.target.value_counts().to_frame().T.rename(columns={0:\"Not Subscribed\", 1:\"Subscribed\"}, index={\"target\":\"Test Set Class Distribution\"})\n",
    "pd.concat([train_class_distribution, test_class_distribution])"
   ]
  },
  {
   "cell_type": "markdown",
   "metadata": {},
   "source": [
    "Table 2. Counts of observation for each class for each data partition.\n",
    "\n",
    "As shown above, there is class imbalance. Our positive for this analysis is for our customers to subscribe to the term deposit. We will try to spot this class so we make sure we capture as many customers as we can with this term deposit product.  We care a bit more about recall than precision because we want to capture as many customers as we can. If we can tune our prediction model to minimize false negatives, the more customers we hope we can get signed up this term deposit product.\n",
    "\n",
    "We will first attempt to capture the right metrics to find and tune the best model. We note the class imbalance as shown in the table above.  So in addition to our initial tuning, we are prepared to change the training procedures (ex. class weight) and maybe even changing the data (over/under sampling) as we continue our analysis. This will also be dependent on our initial tuning to see if any metrics identify any other problems.\n",
    "\n",
    "\n"
   ]
  },
  {
   "cell_type": "markdown",
   "metadata": {},
   "source": [
    "# Exploratory analysis on the training set"
   ]
  },
  {
   "cell_type": "markdown",
   "metadata": {},
   "source": [
    "To gain an understanding on which features could be helpful in predicting the positive class, we plotted histograms of numeric features (didn't subscibe: blue and subscibed: orange) and percent subscribed bar graphs for each of the categorical features for all observations in the training data set. Although the histograms distributions for all of the numeric features overlap to a certain degree, they do show a difference in their centres and spreads, for example, `age` histogram. For the categorical features, some features are similar in the proportion subscribed, while others seem to be promising in predicting the positive class. The `poutcome` (previous outcome) feature seem to be the best as previous success is highly associated with the positive class. In addition, the features values (`contact`: cellphone, `education`:illitrate, `age_category`:older adults then young adults, and `job`s:retired and student) seem to be associated with the positive class. \n"
   ]
  },
  {
   "cell_type": "code",
   "execution_count": 5,
   "metadata": {},
   "outputs": [
    {
     "data": {
      "text/html": [
       "<table><tr><td><img src='../results/age.png'></td><td><img src='../results/last_contact_duration.png'></td></tr><tr><td><img src='../results/contacts_during_campaign.png'></td><td><img src='../results/days_after_previous_contact.png'></td></tr><tr><td><img src='../results/previous_contacts.png'></td><td><img src='../results/employment_variation_rate.png'></td></tr><tr><td><img src='../results/consumer_price_index.png'></td><td><img src='../results/consumer_confidence_index.png'></td></tr><tr><td><img src='../results/euribor_3_month_rate.png'></td><td><img src='../results/number_of_employees.png'></td></tr></table>"
      ],
      "text/plain": [
       "<IPython.core.display.HTML object>"
      ]
     },
     "metadata": {},
     "output_type": "display_data"
    }
   ],
   "source": [
    "\n",
    "display(HTML(\"<table>\" + \n",
    "             \"<tr><td><img src='../results/age.png'></td><td><img src='../results/last_contact_duration.png'></td></tr>\" +\n",
    "             \"<tr><td><img src='../results/contacts_during_campaign.png'></td><td><img src='../results/days_after_previous_contact.png'></td></tr>\" +\n",
    "             \"<tr><td><img src='../results/previous_contacts.png'></td><td><img src='../results/employment_variation_rate.png'></td></tr>\" +\n",
    "             \"<tr><td><img src='../results/consumer_price_index.png'></td><td><img src='../results/consumer_confidence_index.png'></td></tr>\" +\n",
    "             \"<tr><td><img src='../results/euribor_3_month_rate.png'></td><td><img src='../results/number_of_employees.png'></td></tr>\" +\n",
    "            \"</table>\"))\n"
   ]
  },
  {
   "cell_type": "markdown",
   "metadata": {},
   "source": [
    "Figure 1. Distribution of numeric features in the training set for subscribers and non-subscribers to the bank's term deposit product."
   ]
  },
  {
   "cell_type": "code",
   "execution_count": 7,
   "metadata": {},
   "outputs": [
    {
     "data": {
      "text/html": [
       "<table><tr><td><img src='../results/job.png'></td><td><img src='../results/month.png'></td></tr><tr><td><img src='../results/education.png'></td><td><img src='../results/day_of_week.png'></td></tr><tr><td><img src='../results/loan.png'></td><td><img src='../results/previous_outcome.png'></td></tr><tr><td><img src='../results/marital_status.png'></td><td><img src='../results/housing.png'></td></tr><tr><td><img src='../results/contact.png'></td><td><img src='../results/default.png'></td></tr></table>"
      ],
      "text/plain": [
       "<IPython.core.display.HTML object>"
      ]
     },
     "metadata": {},
     "output_type": "display_data"
    }
   ],
   "source": [
    "\n",
    "display(HTML(\"<table>\" + \n",
    "             \"<tr><td><img src='../results/job.png'></td><td><img src='../results/month.png'></td></tr>\" +\n",
    "             \"<tr><td><img src='../results/education.png'></td><td><img src='../results/day_of_week.png'></td></tr>\" +\n",
    "             \"<tr><td><img src='../results/loan.png'></td><td><img src='../results/previous_outcome.png'></td></tr>\" +\n",
    "             \"<tr><td><img src='../results/marital_status.png'></td><td><img src='../results/housing.png'></td></tr>\" +\n",
    "             \"<tr><td><img src='../results/contact.png'></td><td><img src='../results/default.png'></td></tr>\" +\n",
    "            \"</table>\"))"
   ]
  },
  {
   "cell_type": "markdown",
   "metadata": {},
   "source": [
    "Figure 2. Distribution of categorical features in the training set for subscribers to the bank's term deposit product."
   ]
  },
  {
   "cell_type": "markdown",
   "metadata": {},
   "source": [
    "# References\n",
    "\n",
    "[Moro et al., 2014] S. Moro, P. Cortez and P. Rita. A Data-Driven Approach to Predict the Success of Bank Telemarketing. Decision Support Systems, Elsevier, 62:22-31, June 2014. https://archive.ics.uci.edu/ml/datasets/Bank+Marketing#.\n"
   ]
  }
 ],
 "metadata": {
  "kernelspec": {
   "display_name": "Python [conda env:522]",
   "language": "python",
   "name": "conda-env-522-py"
  },
  "language_info": {
   "codemirror_mode": {
    "name": "ipython",
    "version": 3
   },
   "file_extension": ".py",
   "mimetype": "text/x-python",
   "name": "python",
   "nbconvert_exporter": "python",
   "pygments_lexer": "ipython3",
   "version": "3.8.6"
  }
 },
 "nbformat": 4,
 "nbformat_minor": 4
}
